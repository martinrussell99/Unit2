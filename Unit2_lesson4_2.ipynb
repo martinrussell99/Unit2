{
 "cells": [
  {
   "cell_type": "code",
   "execution_count": 1,
   "metadata": {},
   "outputs": [
    {
     "data": {
      "text/plain": [
       "'\\nfrom sklearn.preprocessing import StandardScaler\\nsc_X = StandardScaler()\\nX_train = sc_X.fit_transform(X_train)\\nX_test = sc_X.transform(X_test)\\nsc_y = StandardScaler()\\ny_train = sc_y.fit_transform(y_train)\\n\\n'"
      ]
     },
     "execution_count": 1,
     "metadata": {},
     "output_type": "execute_result"
    }
   ],
   "source": [
    "import numpy as np\n",
    "import matplotlib as plt\n",
    "import pandas as pd\n",
    "\n",
    "\n",
    "dataset = pd.read_csv('table_8.csv')\n",
    "dataset = dataset[['Population', 'Murder', 'Robbery', 'Propertycrime']]\n",
    "#Take care of missing data\n",
    "from sklearn.preprocessing import Imputer\n",
    "imputer = Imputer(missing_values = 'NaN', strategy = 'mean', axis=0)\n",
    "#fit the imputer\n",
    "imputer = imputer.fit(dataset[['Population', 'Murder', 'Robbery', 'Propertycrime']])\n",
    "dataset['Population2'] = dataset['Population']**2\n",
    "murd = []\n",
    "robb = []\n",
    "for row in dataset['Murder']:\n",
    "    if row  > 0:\n",
    "        murd.append(1)\n",
    "    else:\n",
    "        murd.append(0)\n",
    "for row in dataset['Robbery']:\n",
    "    if row  > 0:\n",
    "        robb.append(1)\n",
    "    else:\n",
    "        robb.append(0)\n",
    "se = pd.Series(murd)\n",
    "dataset['Murdboo'] = se.values\n",
    "re = pd.Series(robb)\n",
    "dataset['Robboo'] = re.values\n",
    "\n",
    "X = dataset[['Population', 'Population2', 'Murder', 'Murdboo', 'Robbery', 'Robboo']].values  #independent variables\n",
    "y = dataset[['Propertycrime']].values     #dependent variable\n",
    "\n",
    "'''\n",
    "X[:, *:*] =imputer.transform(X[:, *:*])\n",
    "#Encoder\n",
    "from sklearn.preprocessing import LabelEncoder, OneHotEncoder\n",
    "labelencoder_X = LabelEncoder()\n",
    "labelencoder_y = LabelEncoder()\n",
    "labelencoder_X.fit_transform(X[:,*:*])\n",
    "onehotencoder = OneHotEncoder(categorical_features = [0])\n",
    "X = onehotencoder.fit_transform(X).toarray()\n",
    "y = labelencoder_y.fit_transform(y)\n",
    "'''\n",
    "# Splitting the dataset into the Training set and Test set\n",
    "#from sklearn.cross_validation import train_test_split\n",
    "#X_train, X_test, y_train, y_test = train_test_split(X, y, test_size = 0.2, random_state = 0)\n",
    "\n",
    "# Feature Scaling\n",
    "\"\"\"\n",
    "from sklearn.preprocessing import StandardScaler\n",
    "sc_X = StandardScaler()\n",
    "X_train = sc_X.fit_transform(X_train)\n",
    "X_test = sc_X.transform(X_test)\n",
    "sc_y = StandardScaler()\n",
    "y_train = sc_y.fit_transform(y_train)\n",
    "\n",
    "\"\"\"\n",
    "#visualize with a scatter and regression line\n",
    "#plt.scatter(X_train, y_train, color = 'red')\n",
    "#plt.plot(X_train, **library**.predict(X_train, color = 'blue'))"
   ]
  },
  {
   "cell_type": "code",
   "execution_count": 2,
   "metadata": {},
   "outputs": [
    {
     "data": {
      "text/html": [
       "<div>\n",
       "<style scoped>\n",
       "    .dataframe tbody tr th:only-of-type {\n",
       "        vertical-align: middle;\n",
       "    }\n",
       "\n",
       "    .dataframe tbody tr th {\n",
       "        vertical-align: top;\n",
       "    }\n",
       "\n",
       "    .dataframe thead th {\n",
       "        text-align: right;\n",
       "    }\n",
       "</style>\n",
       "<table border=\"1\" class=\"dataframe\">\n",
       "  <thead>\n",
       "    <tr style=\"text-align: right;\">\n",
       "      <th></th>\n",
       "      <th>Population</th>\n",
       "      <th>Murder</th>\n",
       "      <th>Robbery</th>\n",
       "      <th>Propertycrime</th>\n",
       "      <th>Population2</th>\n",
       "      <th>Murdboo</th>\n",
       "      <th>Robboo</th>\n",
       "    </tr>\n",
       "  </thead>\n",
       "  <tbody>\n",
       "    <tr>\n",
       "      <th>0</th>\n",
       "      <td>1861</td>\n",
       "      <td>0</td>\n",
       "      <td>0</td>\n",
       "      <td>12</td>\n",
       "      <td>3463321</td>\n",
       "      <td>0</td>\n",
       "      <td>0</td>\n",
       "    </tr>\n",
       "    <tr>\n",
       "      <th>1</th>\n",
       "      <td>2577</td>\n",
       "      <td>0</td>\n",
       "      <td>0</td>\n",
       "      <td>24</td>\n",
       "      <td>6640929</td>\n",
       "      <td>0</td>\n",
       "      <td>0</td>\n",
       "    </tr>\n",
       "    <tr>\n",
       "      <th>2</th>\n",
       "      <td>2846</td>\n",
       "      <td>0</td>\n",
       "      <td>0</td>\n",
       "      <td>16</td>\n",
       "      <td>8099716</td>\n",
       "      <td>0</td>\n",
       "      <td>0</td>\n",
       "    </tr>\n",
       "    <tr>\n",
       "      <th>3</th>\n",
       "      <td>97956</td>\n",
       "      <td>8</td>\n",
       "      <td>227</td>\n",
       "      <td>4090</td>\n",
       "      <td>9595377936</td>\n",
       "      <td>1</td>\n",
       "      <td>1</td>\n",
       "    </tr>\n",
       "    <tr>\n",
       "      <th>4</th>\n",
       "      <td>6388</td>\n",
       "      <td>0</td>\n",
       "      <td>4</td>\n",
       "      <td>223</td>\n",
       "      <td>40806544</td>\n",
       "      <td>0</td>\n",
       "      <td>1</td>\n",
       "    </tr>\n",
       "  </tbody>\n",
       "</table>\n",
       "</div>"
      ],
      "text/plain": [
       "   Population  Murder  Robbery  Propertycrime  Population2  Murdboo  Robboo\n",
       "0        1861       0        0             12      3463321        0       0\n",
       "1        2577       0        0             24      6640929        0       0\n",
       "2        2846       0        0             16      8099716        0       0\n",
       "3       97956       8      227           4090   9595377936        1       1\n",
       "4        6388       0        4            223     40806544        0       1"
      ]
     },
     "execution_count": 2,
     "metadata": {},
     "output_type": "execute_result"
    }
   ],
   "source": [
    "dataset.head(5)"
   ]
  },
  {
   "cell_type": "code",
   "execution_count": null,
   "metadata": {},
   "outputs": [],
   "source": [
    "\n"
   ]
  },
  {
   "cell_type": "code",
   "execution_count": 6,
   "metadata": {},
   "outputs": [
    {
     "data": {
      "text/plain": [
       "array([[       1861,     3463321,           0,           0,           0,\n",
       "                  0],\n",
       "       [       2577,     6640929,           0,           0,           0,\n",
       "                  0],\n",
       "       [       2846,     8099716,           0,           0,           0,\n",
       "                  0],\n",
       "       ...,\n",
       "       [       5931,    35176761,           0,           0,           0,\n",
       "                  0],\n",
       "       [     199134, 39654349956,           6,           1,         390,\n",
       "                  1],\n",
       "       [      36643,  1342709449,           0,           0,           2,\n",
       "                  1]], dtype=int64)"
      ]
     },
     "execution_count": 6,
     "metadata": {},
     "output_type": "execute_result"
    }
   ],
   "source": [
    "X"
   ]
  },
  {
   "cell_type": "code",
   "execution_count": 4,
   "metadata": {},
   "outputs": [
    {
     "data": {
      "text/plain": [
       "Population       int64\n",
       "Murder           int64\n",
       "Robbery          int64\n",
       "Propertycrime    int64\n",
       "Population2      int64\n",
       "Murdboo          int64\n",
       "Robboo           int64\n",
       "dtype: object"
      ]
     },
     "execution_count": 4,
     "metadata": {},
     "output_type": "execute_result"
    }
   ],
   "source": [
    "dataset.dtypes\n",
    "\n"
   ]
  },
  {
   "cell_type": "code",
   "execution_count": null,
   "metadata": {},
   "outputs": [],
   "source": []
  },
  {
   "cell_type": "code",
   "execution_count": null,
   "metadata": {},
   "outputs": [],
   "source": []
  },
  {
   "cell_type": "code",
   "execution_count": null,
   "metadata": {},
   "outputs": [],
   "source": []
  }
 ],
 "metadata": {
  "kernelspec": {
   "display_name": "Python 3",
   "language": "python",
   "name": "python3"
  },
  "language_info": {
   "codemirror_mode": {
    "name": "ipython",
    "version": 3
   },
   "file_extension": ".py",
   "mimetype": "text/x-python",
   "name": "python",
   "nbconvert_exporter": "python",
   "pygments_lexer": "ipython3",
   "version": "3.6.5"
  }
 },
 "nbformat": 4,
 "nbformat_minor": 2
}
