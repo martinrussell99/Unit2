{
 "cells": [
  {
   "cell_type": "code",
   "execution_count": null,
   "metadata": {},
   "outputs": [],
   "source": [
    "# Your code here.\n",
    "#For Scedasticity I created two binary features, one for whether a town had a murder or not,\n",
    "#and another columnm for if there had been a burglary in the town.\n",
    "murd = []\n",
    "robb = []\n",
    "for row in dataset['Murder']:\n",
    "    if row  > 0:\n",
    "        murd.append(1)\n",
    "    else:\n",
    "        murd.append(0)\n",
    "for row in dataset['Robbery']:\n",
    "    if row  > 0:\n",
    "        robb.append(1)\n",
    "    else:\n",
    "        robb.append(0)\n",
    "se = pd.Series(murd)\n",
    "dataset['Murdboo'] = se.values\n",
    "re = pd.Series(robb)\n",
    "dataset['Robboo'] = re.values\n",
    "\n",
    "#For Multicollinearity, I combined the Murder and Robbery features into a single feature\n",
    "#\"Robbery_murder\" and the dropped the 2 individual columns from the X dataset.\n",
    "# \n",
    "means = dataset[['Robbery','Murder',]].mean(axis=0)\n",
    "stds = dataset[['Robbery','Murder',]].std(axis=0)\n",
    "dataset['Robbery_murder'] = ((dataset[['Robbery','Murder',]] - means) / stds).mean(axis=1)\n"
   ]
  }
 ],
 "metadata": {
  "kernelspec": {
   "display_name": "Python 3",
   "language": "python",
   "name": "python3"
  },
  "language_info": {
   "codemirror_mode": {
    "name": "ipython",
    "version": 3
   },
   "file_extension": ".py",
   "mimetype": "text/x-python",
   "name": "python",
   "nbconvert_exporter": "python",
   "pygments_lexer": "ipython3",
   "version": "3.6.5"
  }
 },
 "nbformat": 4,
 "nbformat_minor": 2
}
